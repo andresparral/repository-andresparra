{
  "nbformat": 4,
  "nbformat_minor": 0,
  "metadata": {
    "colab": {
      "provenance": [],
      "include_colab_link": true
    },
    "kernelspec": {
      "name": "python3",
      "display_name": "Python 3"
    },
    "language_info": {
      "name": "python"
    }
  },
  "cells": [
    {
      "cell_type": "markdown",
      "metadata": {
        "id": "view-in-github",
        "colab_type": "text"
      },
      "source": [
        "<a href=\"https://colab.research.google.com/github/andresparral/repository-andresparra/blob/main/Copia_de_EXAMEN_ELECTIVA.ipynb\" target=\"_parent\"><img src=\"https://colab.research.google.com/assets/colab-badge.svg\" alt=\"Open In Colab\"/></a>"
      ]
    },
    {
      "cell_type": "code",
      "execution_count": 1,
      "metadata": {
        "id": "MV3LDxTzbMIr"
      },
      "outputs": [],
      "source": [
        "import pandas as pd\n",
        "import numpy as np"
      ]
    },
    {
      "cell_type": "code",
      "source": [
        "url_micron= 'https://github.com/niconomist98/DataAnalyticsUQ/raw/refs/heads/main/Datos/EMICRON/emicron_identificacion.csv'\n",
        "df_micron = pd.read_csv(url_micron, encoding='latin-1', sep=',', low_memory=False)\n",
        "\n",
        "df_emicron.head()"
      ],
      "metadata": {
        "colab": {
          "base_uri": "https://localhost:8080/",
          "height": 226
        },
        "id": "Kzpm208ibSMS",
        "outputId": "66f14dd5-1b61-4a46-8e21-65b5b883e824"
      },
      "execution_count": 9,
      "outputs": [
        {
          "output_type": "execute_result",
          "data": {
            "text/plain": [
              "   DIRECTORIO  SECUENCIA_P  SECUENCIA_ENCUESTA  COD_DEPTO  AREA  CLASE_TE  \\\n",
              "0     7627444            1                   1         44   NaN         2   \n",
              "1     7627446            1                   1         44   NaN         2   \n",
              "2     7627449            1                   1         68   NaN         1   \n",
              "3     7627453            1                   2         68   NaN         1   \n",
              "4     7627456            1                   3         68   NaN         1   \n",
              "\n",
              "   P35  P241 MES_REF  P3031  P3032_1  P3032_2  P3032_3  P3033  P3034  P3035  \\\n",
              "0    2    33   ENERO      2      NaN      NaN      NaN      2    240      2   \n",
              "1    1    31   ENERO      2      NaN      NaN      NaN      2    166      2   \n",
              "2    2    42   ENERO      2      NaN      NaN      NaN      2     60      2   \n",
              "3    2    41   ENERO      2      NaN      NaN      NaN      2     60      2   \n",
              "4    1    18   ENERO      2      NaN      NaN      NaN      2      9      2   \n",
              "\n",
              "   P3000  GRUPOS4  GRUPOS12       F_EXP  \n",
              "0      2        2         3   60.050515  \n",
              "1      2        1         1   86.341075  \n",
              "2      2        3         5  139.884518  \n",
              "3      2        4         7  168.635440  \n",
              "4      2        4         6   64.659273  "
            ],
            "text/html": [
              "\n",
              "  <div id=\"df-4b870ea7-3e7e-4928-b23e-0ae7a0ac1105\" class=\"colab-df-container\">\n",
              "    <div>\n",
              "<style scoped>\n",
              "    .dataframe tbody tr th:only-of-type {\n",
              "        vertical-align: middle;\n",
              "    }\n",
              "\n",
              "    .dataframe tbody tr th {\n",
              "        vertical-align: top;\n",
              "    }\n",
              "\n",
              "    .dataframe thead th {\n",
              "        text-align: right;\n",
              "    }\n",
              "</style>\n",
              "<table border=\"1\" class=\"dataframe\">\n",
              "  <thead>\n",
              "    <tr style=\"text-align: right;\">\n",
              "      <th></th>\n",
              "      <th>DIRECTORIO</th>\n",
              "      <th>SECUENCIA_P</th>\n",
              "      <th>SECUENCIA_ENCUESTA</th>\n",
              "      <th>COD_DEPTO</th>\n",
              "      <th>AREA</th>\n",
              "      <th>CLASE_TE</th>\n",
              "      <th>P35</th>\n",
              "      <th>P241</th>\n",
              "      <th>MES_REF</th>\n",
              "      <th>P3031</th>\n",
              "      <th>P3032_1</th>\n",
              "      <th>P3032_2</th>\n",
              "      <th>P3032_3</th>\n",
              "      <th>P3033</th>\n",
              "      <th>P3034</th>\n",
              "      <th>P3035</th>\n",
              "      <th>P3000</th>\n",
              "      <th>GRUPOS4</th>\n",
              "      <th>GRUPOS12</th>\n",
              "      <th>F_EXP</th>\n",
              "    </tr>\n",
              "  </thead>\n",
              "  <tbody>\n",
              "    <tr>\n",
              "      <th>0</th>\n",
              "      <td>7627444</td>\n",
              "      <td>1</td>\n",
              "      <td>1</td>\n",
              "      <td>44</td>\n",
              "      <td>NaN</td>\n",
              "      <td>2</td>\n",
              "      <td>2</td>\n",
              "      <td>33</td>\n",
              "      <td>ENERO</td>\n",
              "      <td>2</td>\n",
              "      <td>NaN</td>\n",
              "      <td>NaN</td>\n",
              "      <td>NaN</td>\n",
              "      <td>2</td>\n",
              "      <td>240</td>\n",
              "      <td>2</td>\n",
              "      <td>2</td>\n",
              "      <td>2</td>\n",
              "      <td>3</td>\n",
              "      <td>60.050515</td>\n",
              "    </tr>\n",
              "    <tr>\n",
              "      <th>1</th>\n",
              "      <td>7627446</td>\n",
              "      <td>1</td>\n",
              "      <td>1</td>\n",
              "      <td>44</td>\n",
              "      <td>NaN</td>\n",
              "      <td>2</td>\n",
              "      <td>1</td>\n",
              "      <td>31</td>\n",
              "      <td>ENERO</td>\n",
              "      <td>2</td>\n",
              "      <td>NaN</td>\n",
              "      <td>NaN</td>\n",
              "      <td>NaN</td>\n",
              "      <td>2</td>\n",
              "      <td>166</td>\n",
              "      <td>2</td>\n",
              "      <td>2</td>\n",
              "      <td>1</td>\n",
              "      <td>1</td>\n",
              "      <td>86.341075</td>\n",
              "    </tr>\n",
              "    <tr>\n",
              "      <th>2</th>\n",
              "      <td>7627449</td>\n",
              "      <td>1</td>\n",
              "      <td>1</td>\n",
              "      <td>68</td>\n",
              "      <td>NaN</td>\n",
              "      <td>1</td>\n",
              "      <td>2</td>\n",
              "      <td>42</td>\n",
              "      <td>ENERO</td>\n",
              "      <td>2</td>\n",
              "      <td>NaN</td>\n",
              "      <td>NaN</td>\n",
              "      <td>NaN</td>\n",
              "      <td>2</td>\n",
              "      <td>60</td>\n",
              "      <td>2</td>\n",
              "      <td>2</td>\n",
              "      <td>3</td>\n",
              "      <td>5</td>\n",
              "      <td>139.884518</td>\n",
              "    </tr>\n",
              "    <tr>\n",
              "      <th>3</th>\n",
              "      <td>7627453</td>\n",
              "      <td>1</td>\n",
              "      <td>2</td>\n",
              "      <td>68</td>\n",
              "      <td>NaN</td>\n",
              "      <td>1</td>\n",
              "      <td>2</td>\n",
              "      <td>41</td>\n",
              "      <td>ENERO</td>\n",
              "      <td>2</td>\n",
              "      <td>NaN</td>\n",
              "      <td>NaN</td>\n",
              "      <td>NaN</td>\n",
              "      <td>2</td>\n",
              "      <td>60</td>\n",
              "      <td>2</td>\n",
              "      <td>2</td>\n",
              "      <td>4</td>\n",
              "      <td>7</td>\n",
              "      <td>168.635440</td>\n",
              "    </tr>\n",
              "    <tr>\n",
              "      <th>4</th>\n",
              "      <td>7627456</td>\n",
              "      <td>1</td>\n",
              "      <td>3</td>\n",
              "      <td>68</td>\n",
              "      <td>NaN</td>\n",
              "      <td>1</td>\n",
              "      <td>1</td>\n",
              "      <td>18</td>\n",
              "      <td>ENERO</td>\n",
              "      <td>2</td>\n",
              "      <td>NaN</td>\n",
              "      <td>NaN</td>\n",
              "      <td>NaN</td>\n",
              "      <td>2</td>\n",
              "      <td>9</td>\n",
              "      <td>2</td>\n",
              "      <td>2</td>\n",
              "      <td>4</td>\n",
              "      <td>6</td>\n",
              "      <td>64.659273</td>\n",
              "    </tr>\n",
              "  </tbody>\n",
              "</table>\n",
              "</div>\n",
              "    <div class=\"colab-df-buttons\">\n",
              "\n",
              "  <div class=\"colab-df-container\">\n",
              "    <button class=\"colab-df-convert\" onclick=\"convertToInteractive('df-4b870ea7-3e7e-4928-b23e-0ae7a0ac1105')\"\n",
              "            title=\"Convert this dataframe to an interactive table.\"\n",
              "            style=\"display:none;\">\n",
              "\n",
              "  <svg xmlns=\"http://www.w3.org/2000/svg\" height=\"24px\" viewBox=\"0 -960 960 960\">\n",
              "    <path d=\"M120-120v-720h720v720H120Zm60-500h600v-160H180v160Zm220 220h160v-160H400v160Zm0 220h160v-160H400v160ZM180-400h160v-160H180v160Zm440 0h160v-160H620v160ZM180-180h160v-160H180v160Zm440 0h160v-160H620v160Z\"/>\n",
              "  </svg>\n",
              "    </button>\n",
              "\n",
              "  <style>\n",
              "    .colab-df-container {\n",
              "      display:flex;\n",
              "      gap: 12px;\n",
              "    }\n",
              "\n",
              "    .colab-df-convert {\n",
              "      background-color: #E8F0FE;\n",
              "      border: none;\n",
              "      border-radius: 50%;\n",
              "      cursor: pointer;\n",
              "      display: none;\n",
              "      fill: #1967D2;\n",
              "      height: 32px;\n",
              "      padding: 0 0 0 0;\n",
              "      width: 32px;\n",
              "    }\n",
              "\n",
              "    .colab-df-convert:hover {\n",
              "      background-color: #E2EBFA;\n",
              "      box-shadow: 0px 1px 2px rgba(60, 64, 67, 0.3), 0px 1px 3px 1px rgba(60, 64, 67, 0.15);\n",
              "      fill: #174EA6;\n",
              "    }\n",
              "\n",
              "    .colab-df-buttons div {\n",
              "      margin-bottom: 4px;\n",
              "    }\n",
              "\n",
              "    [theme=dark] .colab-df-convert {\n",
              "      background-color: #3B4455;\n",
              "      fill: #D2E3FC;\n",
              "    }\n",
              "\n",
              "    [theme=dark] .colab-df-convert:hover {\n",
              "      background-color: #434B5C;\n",
              "      box-shadow: 0px 1px 3px 1px rgba(0, 0, 0, 0.15);\n",
              "      filter: drop-shadow(0px 1px 2px rgba(0, 0, 0, 0.3));\n",
              "      fill: #FFFFFF;\n",
              "    }\n",
              "  </style>\n",
              "\n",
              "    <script>\n",
              "      const buttonEl =\n",
              "        document.querySelector('#df-4b870ea7-3e7e-4928-b23e-0ae7a0ac1105 button.colab-df-convert');\n",
              "      buttonEl.style.display =\n",
              "        google.colab.kernel.accessAllowed ? 'block' : 'none';\n",
              "\n",
              "      async function convertToInteractive(key) {\n",
              "        const element = document.querySelector('#df-4b870ea7-3e7e-4928-b23e-0ae7a0ac1105');\n",
              "        const dataTable =\n",
              "          await google.colab.kernel.invokeFunction('convertToInteractive',\n",
              "                                                    [key], {});\n",
              "        if (!dataTable) return;\n",
              "\n",
              "        const docLinkHtml = 'Like what you see? Visit the ' +\n",
              "          '<a target=\"_blank\" href=https://colab.research.google.com/notebooks/data_table.ipynb>data table notebook</a>'\n",
              "          + ' to learn more about interactive tables.';\n",
              "        element.innerHTML = '';\n",
              "        dataTable['output_type'] = 'display_data';\n",
              "        await google.colab.output.renderOutput(dataTable, element);\n",
              "        const docLink = document.createElement('div');\n",
              "        docLink.innerHTML = docLinkHtml;\n",
              "        element.appendChild(docLink);\n",
              "      }\n",
              "    </script>\n",
              "  </div>\n",
              "\n",
              "\n",
              "    <div id=\"df-e0d13215-88f8-49cd-951a-88dd2fd3c330\">\n",
              "      <button class=\"colab-df-quickchart\" onclick=\"quickchart('df-e0d13215-88f8-49cd-951a-88dd2fd3c330')\"\n",
              "                title=\"Suggest charts\"\n",
              "                style=\"display:none;\">\n",
              "\n",
              "<svg xmlns=\"http://www.w3.org/2000/svg\" height=\"24px\"viewBox=\"0 0 24 24\"\n",
              "     width=\"24px\">\n",
              "    <g>\n",
              "        <path d=\"M19 3H5c-1.1 0-2 .9-2 2v14c0 1.1.9 2 2 2h14c1.1 0 2-.9 2-2V5c0-1.1-.9-2-2-2zM9 17H7v-7h2v7zm4 0h-2V7h2v10zm4 0h-2v-4h2v4z\"/>\n",
              "    </g>\n",
              "</svg>\n",
              "      </button>\n",
              "\n",
              "<style>\n",
              "  .colab-df-quickchart {\n",
              "      --bg-color: #E8F0FE;\n",
              "      --fill-color: #1967D2;\n",
              "      --hover-bg-color: #E2EBFA;\n",
              "      --hover-fill-color: #174EA6;\n",
              "      --disabled-fill-color: #AAA;\n",
              "      --disabled-bg-color: #DDD;\n",
              "  }\n",
              "\n",
              "  [theme=dark] .colab-df-quickchart {\n",
              "      --bg-color: #3B4455;\n",
              "      --fill-color: #D2E3FC;\n",
              "      --hover-bg-color: #434B5C;\n",
              "      --hover-fill-color: #FFFFFF;\n",
              "      --disabled-bg-color: #3B4455;\n",
              "      --disabled-fill-color: #666;\n",
              "  }\n",
              "\n",
              "  .colab-df-quickchart {\n",
              "    background-color: var(--bg-color);\n",
              "    border: none;\n",
              "    border-radius: 50%;\n",
              "    cursor: pointer;\n",
              "    display: none;\n",
              "    fill: var(--fill-color);\n",
              "    height: 32px;\n",
              "    padding: 0;\n",
              "    width: 32px;\n",
              "  }\n",
              "\n",
              "  .colab-df-quickchart:hover {\n",
              "    background-color: var(--hover-bg-color);\n",
              "    box-shadow: 0 1px 2px rgba(60, 64, 67, 0.3), 0 1px 3px 1px rgba(60, 64, 67, 0.15);\n",
              "    fill: var(--button-hover-fill-color);\n",
              "  }\n",
              "\n",
              "  .colab-df-quickchart-complete:disabled,\n",
              "  .colab-df-quickchart-complete:disabled:hover {\n",
              "    background-color: var(--disabled-bg-color);\n",
              "    fill: var(--disabled-fill-color);\n",
              "    box-shadow: none;\n",
              "  }\n",
              "\n",
              "  .colab-df-spinner {\n",
              "    border: 2px solid var(--fill-color);\n",
              "    border-color: transparent;\n",
              "    border-bottom-color: var(--fill-color);\n",
              "    animation:\n",
              "      spin 1s steps(1) infinite;\n",
              "  }\n",
              "\n",
              "  @keyframes spin {\n",
              "    0% {\n",
              "      border-color: transparent;\n",
              "      border-bottom-color: var(--fill-color);\n",
              "      border-left-color: var(--fill-color);\n",
              "    }\n",
              "    20% {\n",
              "      border-color: transparent;\n",
              "      border-left-color: var(--fill-color);\n",
              "      border-top-color: var(--fill-color);\n",
              "    }\n",
              "    30% {\n",
              "      border-color: transparent;\n",
              "      border-left-color: var(--fill-color);\n",
              "      border-top-color: var(--fill-color);\n",
              "      border-right-color: var(--fill-color);\n",
              "    }\n",
              "    40% {\n",
              "      border-color: transparent;\n",
              "      border-right-color: var(--fill-color);\n",
              "      border-top-color: var(--fill-color);\n",
              "    }\n",
              "    60% {\n",
              "      border-color: transparent;\n",
              "      border-right-color: var(--fill-color);\n",
              "    }\n",
              "    80% {\n",
              "      border-color: transparent;\n",
              "      border-right-color: var(--fill-color);\n",
              "      border-bottom-color: var(--fill-color);\n",
              "    }\n",
              "    90% {\n",
              "      border-color: transparent;\n",
              "      border-bottom-color: var(--fill-color);\n",
              "    }\n",
              "  }\n",
              "</style>\n",
              "\n",
              "      <script>\n",
              "        async function quickchart(key) {\n",
              "          const quickchartButtonEl =\n",
              "            document.querySelector('#' + key + ' button');\n",
              "          quickchartButtonEl.disabled = true;  // To prevent multiple clicks.\n",
              "          quickchartButtonEl.classList.add('colab-df-spinner');\n",
              "          try {\n",
              "            const charts = await google.colab.kernel.invokeFunction(\n",
              "                'suggestCharts', [key], {});\n",
              "          } catch (error) {\n",
              "            console.error('Error during call to suggestCharts:', error);\n",
              "          }\n",
              "          quickchartButtonEl.classList.remove('colab-df-spinner');\n",
              "          quickchartButtonEl.classList.add('colab-df-quickchart-complete');\n",
              "        }\n",
              "        (() => {\n",
              "          let quickchartButtonEl =\n",
              "            document.querySelector('#df-e0d13215-88f8-49cd-951a-88dd2fd3c330 button');\n",
              "          quickchartButtonEl.style.display =\n",
              "            google.colab.kernel.accessAllowed ? 'block' : 'none';\n",
              "        })();\n",
              "      </script>\n",
              "    </div>\n",
              "\n",
              "    </div>\n",
              "  </div>\n"
            ],
            "application/vnd.google.colaboratory.intrinsic+json": {
              "type": "dataframe",
              "variable_name": "df_emicron",
              "summary": "{\n  \"name\": \"df_emicron\",\n  \"rows\": 78501,\n  \"fields\": [\n    {\n      \"column\": \"DIRECTORIO\",\n      \"properties\": {\n        \"dtype\": \"number\",\n        \"std\": 124955,\n        \"min\": 7627444,\n        \"max\": 8038075,\n        \"num_unique_values\": 68702,\n        \"samples\": [\n          7865452,\n          7658342,\n          7806008\n        ],\n        \"semantic_type\": \"\",\n        \"description\": \"\"\n      }\n    },\n    {\n      \"column\": \"SECUENCIA_P\",\n      \"properties\": {\n        \"dtype\": \"number\",\n        \"std\": 0,\n        \"min\": 1,\n        \"max\": 6,\n        \"num_unique_values\": 6,\n        \"samples\": [\n          1,\n          2,\n          6\n        ],\n        \"semantic_type\": \"\",\n        \"description\": \"\"\n      }\n    },\n    {\n      \"column\": \"SECUENCIA_ENCUESTA\",\n      \"properties\": {\n        \"dtype\": \"number\",\n        \"std\": 1,\n        \"min\": 1,\n        \"max\": 16,\n        \"num_unique_values\": 16,\n        \"samples\": [\n          1,\n          2,\n          10\n        ],\n        \"semantic_type\": \"\",\n        \"description\": \"\"\n      }\n    },\n    {\n      \"column\": \"COD_DEPTO\",\n      \"properties\": {\n        \"dtype\": \"number\",\n        \"std\": 24,\n        \"min\": 5,\n        \"max\": 88,\n        \"num_unique_values\": 25,\n        \"samples\": [\n          17,\n          50,\n          44\n        ],\n        \"semantic_type\": \"\",\n        \"description\": \"\"\n      }\n    },\n    {\n      \"column\": \"AREA\",\n      \"properties\": {\n        \"dtype\": \"number\",\n        \"std\": 24.537204026654177,\n        \"min\": 5.0,\n        \"max\": 88.0,\n        \"num_unique_values\": 24,\n        \"samples\": [\n          23.0,\n          66.0,\n          5.0\n        ],\n        \"semantic_type\": \"\",\n        \"description\": \"\"\n      }\n    },\n    {\n      \"column\": \"CLASE_TE\",\n      \"properties\": {\n        \"dtype\": \"number\",\n        \"std\": 0,\n        \"min\": 1,\n        \"max\": 2,\n        \"num_unique_values\": 2,\n        \"samples\": [\n          1,\n          2\n        ],\n        \"semantic_type\": \"\",\n        \"description\": \"\"\n      }\n    },\n    {\n      \"column\": \"P35\",\n      \"properties\": {\n        \"dtype\": \"number\",\n        \"std\": 0,\n        \"min\": 1,\n        \"max\": 2,\n        \"num_unique_values\": 2,\n        \"samples\": [\n          1,\n          2\n        ],\n        \"semantic_type\": \"\",\n        \"description\": \"\"\n      }\n    },\n    {\n      \"column\": \"P241\",\n      \"properties\": {\n        \"dtype\": \"number\",\n        \"std\": 14,\n        \"min\": 18,\n        \"max\": 99,\n        \"num_unique_values\": 79,\n        \"samples\": [\n          29,\n          33\n        ],\n        \"semantic_type\": \"\",\n        \"description\": \"\"\n      }\n    },\n    {\n      \"column\": \"MES_REF\",\n      \"properties\": {\n        \"dtype\": \"category\",\n        \"num_unique_values\": 12,\n        \"samples\": [\n          \"NOVIEMBRE\",\n          \"OCTUBRE\"\n        ],\n        \"semantic_type\": \"\",\n        \"description\": \"\"\n      }\n    },\n    {\n      \"column\": \"P3031\",\n      \"properties\": {\n        \"dtype\": \"number\",\n        \"std\": 0,\n        \"min\": 1,\n        \"max\": 2,\n        \"num_unique_values\": 2,\n        \"samples\": [\n          1,\n          2\n        ],\n        \"semantic_type\": \"\",\n        \"description\": \"\"\n      }\n    },\n    {\n      \"column\": \"P3032_1\",\n      \"properties\": {\n        \"dtype\": \"number\",\n        \"std\": 1.3115508609568818,\n        \"min\": 0.0,\n        \"max\": 8.0,\n        \"num_unique_values\": 9,\n        \"samples\": [\n          6.0,\n          2.0\n        ],\n        \"semantic_type\": \"\",\n        \"description\": \"\"\n      }\n    },\n    {\n      \"column\": \"P3032_2\",\n      \"properties\": {\n        \"dtype\": \"number\",\n        \"std\": 0.55511720392008,\n        \"min\": 0.0,\n        \"max\": 7.0,\n        \"num_unique_values\": 8,\n        \"samples\": [\n          0.0,\n          4.0\n        ],\n        \"semantic_type\": \"\",\n        \"description\": \"\"\n      }\n    },\n    {\n      \"column\": \"P3032_3\",\n      \"properties\": {\n        \"dtype\": \"number\",\n        \"std\": 0.6694336485749425,\n        \"min\": 0.0,\n        \"max\": 7.0,\n        \"num_unique_values\": 8,\n        \"samples\": [\n          1.0,\n          5.0\n        ],\n        \"semantic_type\": \"\",\n        \"description\": \"\"\n      }\n    },\n    {\n      \"column\": \"P3033\",\n      \"properties\": {\n        \"dtype\": \"number\",\n        \"std\": 0,\n        \"min\": 1,\n        \"max\": 2,\n        \"num_unique_values\": 2,\n        \"samples\": [\n          1,\n          2\n        ],\n        \"semantic_type\": \"\",\n        \"description\": \"\"\n      }\n    },\n    {\n      \"column\": \"P3034\",\n      \"properties\": {\n        \"dtype\": \"number\",\n        \"std\": 132,\n        \"min\": 1,\n        \"max\": 999,\n        \"num_unique_values\": 457,\n        \"samples\": [\n          255,\n          126\n        ],\n        \"semantic_type\": \"\",\n        \"description\": \"\"\n      }\n    },\n    {\n      \"column\": \"P3035\",\n      \"properties\": {\n        \"dtype\": \"number\",\n        \"std\": 0,\n        \"min\": 1,\n        \"max\": 2,\n        \"num_unique_values\": 2,\n        \"samples\": [\n          1,\n          2\n        ],\n        \"semantic_type\": \"\",\n        \"description\": \"\"\n      }\n    },\n    {\n      \"column\": \"P3000\",\n      \"properties\": {\n        \"dtype\": \"number\",\n        \"std\": 0,\n        \"min\": 1,\n        \"max\": 2,\n        \"num_unique_values\": 2,\n        \"samples\": [\n          1,\n          2\n        ],\n        \"semantic_type\": \"\",\n        \"description\": \"\"\n      }\n    },\n    {\n      \"column\": \"GRUPOS4\",\n      \"properties\": {\n        \"dtype\": \"number\",\n        \"std\": 1,\n        \"min\": 1,\n        \"max\": 5,\n        \"num_unique_values\": 5,\n        \"samples\": [\n          1,\n          5\n        ],\n        \"semantic_type\": \"\",\n        \"description\": \"\"\n      }\n    },\n    {\n      \"column\": \"GRUPOS12\",\n      \"properties\": {\n        \"dtype\": \"number\",\n        \"std\": 3,\n        \"min\": 1,\n        \"max\": 13,\n        \"num_unique_values\": 13,\n        \"samples\": [\n          10,\n          8\n        ],\n        \"semantic_type\": \"\",\n        \"description\": \"\"\n      }\n    },\n    {\n      \"column\": \"F_EXP\",\n      \"properties\": {\n        \"dtype\": \"number\",\n        \"std\": 84.75301803992033,\n        \"min\": 1.40521866420595,\n        \"max\": 1027.05255165175,\n        \"num_unique_values\": 63960,\n        \"samples\": [\n          24.6049680764199,\n          27.6625756593636\n        ],\n        \"semantic_type\": \"\",\n        \"description\": \"\"\n      }\n    }\n  ]\n}"
            }
          },
          "metadata": {},
          "execution_count": 9
        }
      ]
    },
    {
      "cell_type": "code",
      "source": [
        "df_emicron.columns"
      ],
      "metadata": {
        "colab": {
          "base_uri": "https://localhost:8080/"
        },
        "id": "DfX0errobVgF",
        "outputId": "85b77722-4d86-4370-820f-fe8c6323e1f1"
      },
      "execution_count": 3,
      "outputs": [
        {
          "output_type": "execute_result",
          "data": {
            "text/plain": [
              "Index(['DIRECTORIO', 'SECUENCIA_P', 'SECUENCIA_ENCUESTA', 'COD_DEPTO', 'AREA',\n",
              "       'CLASE_TE', 'P35', 'P241', 'MES_REF', 'P3031', 'P3032_1', 'P3032_2',\n",
              "       'P3032_3', 'P3033', 'P3034', 'P3035', 'P3000', 'GRUPOS4', 'GRUPOS12',\n",
              "       'F_EXP'],\n",
              "      dtype='object')"
            ]
          },
          "metadata": {},
          "execution_count": 3
        }
      ]
    },
    {
      "cell_type": "code",
      "source": [
        "#MICRONEGOCIOS QUE HAY EN COLOMBIA\n",
        "total = df_emicron[\"F_EXP\"].sum()\n",
        "print(\"Micronegocios en todo colombia:\", int(total))"
      ],
      "metadata": {
        "colab": {
          "base_uri": "https://localhost:8080/"
        },
        "id": "Dl5O_5CObYfg",
        "outputId": "af21a870-c857-475b-ff45-a639415427d9"
      },
      "execution_count": 4,
      "outputs": [
        {
          "output_type": "stream",
          "name": "stdout",
          "text": [
            "Micronegocios en todo colombia: 5297251\n"
          ]
        }
      ]
    },
    {
      "cell_type": "code",
      "source": [
        "#PREGUNTA NUMERO 1\n",
        "#TOMAMOS LOS REQUISITOS QUE NOS ESTA PIDIENDO LA PREGUNTA\n",
        "micronegocioF = df_emicron[(df_emicron[\"COD_DEPTO\"] == 63) & (df_emicron[\"P35\"] == 1) & (df_emicron[\"P241\"].between(18, 30))]\n",
        "#CALCULAMOS MICRONEGOCIOS EXPANDIDOS\n",
        "totalquindiohombres_1830 = micronegocioF[\"F_EXP\"].sum()\n",
        "print(f\"Micronegocios en Quindío con propietarios hombres de 18 a 30 años:\", int(totalquindiohombres_1830))"
      ],
      "metadata": {
        "colab": {
          "base_uri": "https://localhost:8080/"
        },
        "id": "su2AJrnzbbJW",
        "outputId": "834253b0-794d-4faf-d19b-b62a3af3cc0f"
      },
      "execution_count": 5,
      "outputs": [
        {
          "output_type": "stream",
          "name": "stdout",
          "text": [
            "Micronegocios en Quindío con propietarios hombres de 18 a 30 años: 1929\n"
          ]
        }
      ]
    },
    {
      "cell_type": "code",
      "source": [
        "#PREGUNTA NUMERO 2\n",
        "#CAMBIAMOS ALGUNAS VARIABLES PARA DETERMINAR EL SEXO DE LAS MUJERES COMO 2\n",
        "micronegocio_manu_FR = df_emicron[(df_emicron[\"COD_DEPTO\"] == 66) & (df_emicron[\"P35\"] == 2) & (df_emicron[\"P241\"].between(20, 30)) & (df_emicron['GRUPOS4'] == 2)]\n",
        "# CALCULAMOS LOS MICRONEGOCIOS\n",
        "total_microMFR = micronegocio_manu_FR[\"F_EXP\"].sum()\n",
        "#IMPRIMIMOS EN PANTALLA LOS RESULTADOS DEL MODELO\n",
        "print(f\"Micronegocios de la industria manufacturera en Risaralda que son de mujeres entre los 20 y 30:\", int(total_microMFR))"
      ],
      "metadata": {
        "colab": {
          "base_uri": "https://localhost:8080/"
        },
        "id": "T4b_Qikbbed5",
        "outputId": "9cb05840-0c02-4689-956e-5a1da8731c9c"
      },
      "execution_count": 6,
      "outputs": [
        {
          "output_type": "stream",
          "name": "stdout",
          "text": [
            "Micronegocios de la industria manufacturera en Risaralda que son de mujeres entre los 20 y 30: 471\n"
          ]
        }
      ]
    },
    {
      "cell_type": "code",
      "source": [
        "#PREGUNTA NUMERO 3\n",
        "#PEREIRA\n",
        "micronegocio_com_FP40 = df_emicron[(df_emicron[\"AREA\"] == 66) & (df_emicron[\"P35\"] == 2) & (df_emicron[\"P241\"] > 40) & (df_emicron['GRUPOS4'] == 3)]\n",
        "total_microCOFP40 = micronegocio_com_FP40['F_EXP'].sum()\n",
        "print(f'Los micronegocios de Pereira con las caracteristicas son:', int(total_microCOFP40))\n",
        "#ARMENIA\n",
        "micronegocio_com_FA40 = df_emicron[(df_emicron[\"AREA\"] == 63) & (df_emicron[\"P35\"] == 2) & (df_emicron[\"P241\"] > 40) & (df_emicron['GRUPOS4'] == 3)]\n",
        "total_microCOFA40 = micronegocio_com_FA40['F_EXP'].sum()\n",
        "print(f'Los micronegocios de Armenia con las caracteristicas son:', int(total_microCOFA40))\n",
        "#MANIZALES\n",
        "micronegocio_com_FM40 = df_emicron[(df_emicron[\"AREA\"] == 17) & (df_emicron[\"P35\"] == 2) & (df_emicron[\"P241\"] > 40) & (df_emicron['GRUPOS4'] == 3)]\n",
        "total_microCOFM40 = micronegocio_com_FM40['F_EXP'].sum()\n",
        "print(f'Los micronegocios de Manizales con las caracteristicas son:', int(total_microCOFM40))\n",
        "print()\n",
        "print(f'La ciudad capital del eje cafetero que tiene mas micronegocios en el comercio con dueñas mayores a 40 años es PEREIRA')"
      ],
      "metadata": {
        "colab": {
          "base_uri": "https://localhost:8080/"
        },
        "id": "wGS5ShPFbjDp",
        "outputId": "60022ce8-2516-4592-bec8-ec8f3a2927fa"
      },
      "execution_count": 7,
      "outputs": [
        {
          "output_type": "stream",
          "name": "stdout",
          "text": [
            "Los micronegocios de Pereira con las caracteristicas son: 3827\n",
            "Los micronegocios de Armenia con las caracteristicas son: 2557\n",
            "Los micronegocios de Manizales con las caracteristicas son: 2636\n",
            "\n",
            "La ciudad capital del eje cafetero que tiene mas micronegocios en el comercio con dueñas mayores a 40 años es PEREIRA\n"
          ]
        }
      ]
    },
    {
      "cell_type": "code",
      "source": [
        "#PREGUNTA NUMERO 4\n",
        "micronegocioNN = df_emicron[(df_emicron[\"AREA\"] == 63) & (df_emicron[\"P35\"] == 1) & (df_emicron[\"P3035\"] == 2)]\n",
        "total_microNN = micronegocioNN['F_EXP'].sum()\n",
        "print(f'En la ciudad de Armenia hay un total de', int(total_microNN), f'micronegocios de propietarios hombres que no tiene nombre comercial')"
      ],
      "metadata": {
        "id": "v2-gnkwRbskS",
        "outputId": "4bf35448-913b-475d-df80-63d73f6f2e9a",
        "colab": {
          "base_uri": "https://localhost:8080/"
        }
      },
      "execution_count": 8,
      "outputs": [
        {
          "output_type": "stream",
          "name": "stdout",
          "text": [
            "En la ciudad de Armenia hay un total de 11603 micronegocios de propietarios hombres que no tiene nombre comercial\n"
          ]
        }
      ]
    }
  ]
}