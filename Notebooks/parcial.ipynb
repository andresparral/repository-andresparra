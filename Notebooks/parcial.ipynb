{
 "cells": [
  {
   "cell_type": "code",
   "execution_count": 1,
   "id": "e65ad1ae",
   "metadata": {},
   "outputs": [],
   "source": [
    "import pandas as pd\n",
    "import numpy as np"
   ]
  },
  {
   "cell_type": "code",
   "execution_count": 2,
   "id": "0999db8b",
   "metadata": {},
   "outputs": [
    {
     "data": {
      "text/html": [
       "<div>\n",
       "<style scoped>\n",
       "    .dataframe tbody tr th:only-of-type {\n",
       "        vertical-align: middle;\n",
       "    }\n",
       "\n",
       "    .dataframe tbody tr th {\n",
       "        vertical-align: top;\n",
       "    }\n",
       "\n",
       "    .dataframe thead th {\n",
       "        text-align: right;\n",
       "    }\n",
       "</style>\n",
       "<table border=\"1\" class=\"dataframe\">\n",
       "  <thead>\n",
       "    <tr style=\"text-align: right;\">\n",
       "      <th></th>\n",
       "      <th>DIRECTORIO</th>\n",
       "      <th>SECUENCIA_P</th>\n",
       "      <th>SECUENCIA_ENCUESTA</th>\n",
       "      <th>COD_DEPTO</th>\n",
       "      <th>AREA</th>\n",
       "      <th>CLASE_TE</th>\n",
       "      <th>P35</th>\n",
       "      <th>P241</th>\n",
       "      <th>MES_REF</th>\n",
       "      <th>P3031</th>\n",
       "      <th>P3032_1</th>\n",
       "      <th>P3032_2</th>\n",
       "      <th>P3032_3</th>\n",
       "      <th>P3033</th>\n",
       "      <th>P3034</th>\n",
       "      <th>P3035</th>\n",
       "      <th>P3000</th>\n",
       "      <th>GRUPOS4</th>\n",
       "      <th>GRUPOS12</th>\n",
       "      <th>F_EXP</th>\n",
       "    </tr>\n",
       "  </thead>\n",
       "  <tbody>\n",
       "    <tr>\n",
       "      <th>0</th>\n",
       "      <td>7627444</td>\n",
       "      <td>1</td>\n",
       "      <td>1</td>\n",
       "      <td>44</td>\n",
       "      <td>NaN</td>\n",
       "      <td>2</td>\n",
       "      <td>2</td>\n",
       "      <td>33</td>\n",
       "      <td>ENERO</td>\n",
       "      <td>2</td>\n",
       "      <td>NaN</td>\n",
       "      <td>NaN</td>\n",
       "      <td>NaN</td>\n",
       "      <td>2</td>\n",
       "      <td>240</td>\n",
       "      <td>2</td>\n",
       "      <td>2</td>\n",
       "      <td>2</td>\n",
       "      <td>3</td>\n",
       "      <td>60.050515</td>\n",
       "    </tr>\n",
       "    <tr>\n",
       "      <th>1</th>\n",
       "      <td>7627446</td>\n",
       "      <td>1</td>\n",
       "      <td>1</td>\n",
       "      <td>44</td>\n",
       "      <td>NaN</td>\n",
       "      <td>2</td>\n",
       "      <td>1</td>\n",
       "      <td>31</td>\n",
       "      <td>ENERO</td>\n",
       "      <td>2</td>\n",
       "      <td>NaN</td>\n",
       "      <td>NaN</td>\n",
       "      <td>NaN</td>\n",
       "      <td>2</td>\n",
       "      <td>166</td>\n",
       "      <td>2</td>\n",
       "      <td>2</td>\n",
       "      <td>1</td>\n",
       "      <td>1</td>\n",
       "      <td>86.341075</td>\n",
       "    </tr>\n",
       "    <tr>\n",
       "      <th>2</th>\n",
       "      <td>7627449</td>\n",
       "      <td>1</td>\n",
       "      <td>1</td>\n",
       "      <td>68</td>\n",
       "      <td>NaN</td>\n",
       "      <td>1</td>\n",
       "      <td>2</td>\n",
       "      <td>42</td>\n",
       "      <td>ENERO</td>\n",
       "      <td>2</td>\n",
       "      <td>NaN</td>\n",
       "      <td>NaN</td>\n",
       "      <td>NaN</td>\n",
       "      <td>2</td>\n",
       "      <td>60</td>\n",
       "      <td>2</td>\n",
       "      <td>2</td>\n",
       "      <td>3</td>\n",
       "      <td>5</td>\n",
       "      <td>139.884518</td>\n",
       "    </tr>\n",
       "    <tr>\n",
       "      <th>3</th>\n",
       "      <td>7627453</td>\n",
       "      <td>1</td>\n",
       "      <td>2</td>\n",
       "      <td>68</td>\n",
       "      <td>NaN</td>\n",
       "      <td>1</td>\n",
       "      <td>2</td>\n",
       "      <td>41</td>\n",
       "      <td>ENERO</td>\n",
       "      <td>2</td>\n",
       "      <td>NaN</td>\n",
       "      <td>NaN</td>\n",
       "      <td>NaN</td>\n",
       "      <td>2</td>\n",
       "      <td>60</td>\n",
       "      <td>2</td>\n",
       "      <td>2</td>\n",
       "      <td>4</td>\n",
       "      <td>7</td>\n",
       "      <td>168.635440</td>\n",
       "    </tr>\n",
       "    <tr>\n",
       "      <th>4</th>\n",
       "      <td>7627456</td>\n",
       "      <td>1</td>\n",
       "      <td>3</td>\n",
       "      <td>68</td>\n",
       "      <td>NaN</td>\n",
       "      <td>1</td>\n",
       "      <td>1</td>\n",
       "      <td>18</td>\n",
       "      <td>ENERO</td>\n",
       "      <td>2</td>\n",
       "      <td>NaN</td>\n",
       "      <td>NaN</td>\n",
       "      <td>NaN</td>\n",
       "      <td>2</td>\n",
       "      <td>9</td>\n",
       "      <td>2</td>\n",
       "      <td>2</td>\n",
       "      <td>4</td>\n",
       "      <td>6</td>\n",
       "      <td>64.659273</td>\n",
       "    </tr>\n",
       "  </tbody>\n",
       "</table>\n",
       "</div>"
      ],
      "text/plain": [
       "   DIRECTORIO  SECUENCIA_P  SECUENCIA_ENCUESTA  COD_DEPTO  AREA  CLASE_TE  \\\n",
       "0     7627444            1                   1         44   NaN         2   \n",
       "1     7627446            1                   1         44   NaN         2   \n",
       "2     7627449            1                   1         68   NaN         1   \n",
       "3     7627453            1                   2         68   NaN         1   \n",
       "4     7627456            1                   3         68   NaN         1   \n",
       "\n",
       "   P35  P241 MES_REF  P3031  P3032_1  P3032_2  P3032_3  P3033  P3034  P3035  \\\n",
       "0    2    33   ENERO      2      NaN      NaN      NaN      2    240      2   \n",
       "1    1    31   ENERO      2      NaN      NaN      NaN      2    166      2   \n",
       "2    2    42   ENERO      2      NaN      NaN      NaN      2     60      2   \n",
       "3    2    41   ENERO      2      NaN      NaN      NaN      2     60      2   \n",
       "4    1    18   ENERO      2      NaN      NaN      NaN      2      9      2   \n",
       "\n",
       "   P3000  GRUPOS4  GRUPOS12       F_EXP  \n",
       "0      2        2         3   60.050515  \n",
       "1      2        1         1   86.341075  \n",
       "2      2        3         5  139.884518  \n",
       "3      2        4         7  168.635440  \n",
       "4      2        4         6   64.659273  "
      ]
     },
     "execution_count": 2,
     "metadata": {},
     "output_type": "execute_result"
    }
   ],
   "source": [
    "url_micron=(\"https://github.com/niconomist98/DataAnalyticsUQ/raw/refs/heads/main/Datos/EMICRON/emicron_identificacion.csv\")\n",
    "df_micron = pd.read_csv(url_micron, encoding='latin-1', sep=',', low_memory=False)\n",
    "df_micron.head()\n"
   ]
  },
  {
   "cell_type": "code",
   "execution_count": 3,
   "id": "b1257fba",
   "metadata": {},
   "outputs": [
    {
     "data": {
      "text/plain": [
       "Index(['DIRECTORIO', 'SECUENCIA_P', 'SECUENCIA_ENCUESTA', 'COD_DEPTO', 'AREA',\n",
       "       'CLASE_TE', 'P35', 'P241', 'MES_REF', 'P3031', 'P3032_1', 'P3032_2',\n",
       "       'P3032_3', 'P3033', 'P3034', 'P3035', 'P3000', 'GRUPOS4', 'GRUPOS12',\n",
       "       'F_EXP'],\n",
       "      dtype='object')"
      ]
     },
     "execution_count": 3,
     "metadata": {},
     "output_type": "execute_result"
    }
   ],
   "source": [
    "df_micron.columns"
   ]
  },
  {
   "cell_type": "markdown",
   "id": "72dfde8d",
   "metadata": {},
   "source": [
    "calcule la cantidad de micronecionegocio en que en el quindio encabezado por hombre y mujeres entre 18 y 28 años"
   ]
  },
  {
   "cell_type": "code",
   "execution_count": 4,
   "id": "6ceedaa1",
   "metadata": {},
   "outputs": [
    {
     "name": "stdout",
     "output_type": "stream",
     "text": [
      "Total Micronegocios en colombia: 5297251\n"
     ]
    }
   ],
   "source": [
    "total = df_micron[\"F_EXP\"].sum()\n",
    "print(\"Total Micronegocios en colombia:\", int(total))"
   ]
  },
  {
   "cell_type": "code",
   "execution_count": 5,
   "id": "3341ce55",
   "metadata": {},
   "outputs": [
    {
     "name": "stdout",
     "output_type": "stream",
     "text": [
      ":micronegocios encabezado por Hombre entre 18 a 28 años de edad 1531\n",
      ":micronegocios encabezado por Mujer entre 18 a 28 años de edad 2281\n"
     ]
    }
   ],
   "source": [
    "HP_Q=df_micron[(df_micron['COD_DEPTO']==63)&(df_micron['P35']==1)&(df_micron['P241']>=18)&(df_micron['P241']<=28)]\n",
    "total_HP_Q_18_28= HP_Q[\"F_EXP\"].sum()\n",
    "print(\":micronegocios encabezado por Hombre entre 18 a 28 años de edad\", int(total_HP_Q_18_28))\n",
    "MP_Q_18_28=df_micron[(df_micron['COD_DEPTO']==63)&(df_micron['P35']==2)&(df_micron['P241']>=18)&(df_micron['P241']<=28)]\n",
    "total_MP_18_28=MP_Q_18_28['F_EXP'].sum()\n",
    "print(\":micronegocios encabezado por Mujer entre 18 a 28 años de edad\", int(total_MP_18_28))"
   ]
  },
  {
   "cell_type": "markdown",
   "id": "768eed3c",
   "metadata": {},
   "source": [
    "cual es la ciudad en la que existen mas micronegocios encabezados por hombres entre los 20 y 30 años"
   ]
  },
  {
   "cell_type": "code",
   "execution_count": 6,
   "id": "7179ad48",
   "metadata": {},
   "outputs": [
    {
     "data": {
      "text/plain": [
       "AREA\n",
       "Medellín AM        46673.067401\n",
       "Bogotá             43411.388549\n",
       "Cali AM            20406.146912\n",
       "Barranquilla AM    19781.299693\n",
       "Cartagena          13908.991328\n",
       "Bucaramanga AM     10639.084702\n",
       "Santa Marta         6578.734060\n",
       "Cúcuta AM           6200.491458\n",
       "Montería            6187.615968\n",
       "Valledupar          5560.657506\n",
       "Sincelejo           5304.927054\n",
       "Villavicencio       3897.633550\n",
       "Pasto               3769.437547\n",
       "Pereira AM          3184.807750\n",
       "Manizales AM        2583.859249\n",
       "Riohacha            2253.630152\n",
       "Ibagué              1927.371528\n",
       "Florencia           1859.906356\n",
       "Popayán             1798.804577\n",
       "Armenia             1641.085962\n",
       "Neiva               1069.777822\n",
       "Quibdó              1012.660344\n",
       "Tunja                837.457854\n",
       "San Andrés           146.142087\n",
       "Name: F_EXP, dtype: float64"
      ]
     },
     "execution_count": 6,
     "metadata": {},
     "output_type": "execute_result"
    }
   ],
   "source": [
    "micronegocios_por_ciudad = df_micron[(df_micron['P35']==1)&(df_micron['P241']>=20)&(df_micron['P241']<=30)].groupby(\"AREA\")[\"F_EXP\"].sum()\n",
    "ciuda_nombre ={\n",
    "5: 'Medellín AM',\n",
    "8: 'Barranquilla AM',\n",
    "11: 'Bogotá',\n",
    "13: 'Cartagena',\n",
    "15 :'Tunja',\n",
    "17: 'Manizales AM',\n",
    "18: 'Florencia',\n",
    "19: 'Popayán',\n",
    "20: 'Valledupar',\n",
    "23: 'Montería',\n",
    "27: 'Quibdó',\n",
    "41: 'Neiva',\n",
    "44: 'Riohacha',\n",
    "47: 'Santa Marta',\n",
    "50: 'Villavicencio',\n",
    "52: 'Pasto',\n",
    "54: 'Cúcuta AM',\n",
    "63: 'Armenia',\n",
    "66: 'Pereira AM',\n",
    "68: 'Bucaramanga AM',\n",
    "70: 'Sincelejo',\n",
    "73: 'Ibagué',\n",
    "76: 'Cali AM',\n",
    "88: 'San Andrés'\n",
    "}\n",
    "micronegocios_por_ciudad.index = micronegocios_por_ciudad.index.map(ciuda_nombre)\n",
    "micronegocios_por_ciudad.sort_values(ascending=False)\n",
    "# la ciudad con mas micronegocios encabezado por hombres entre 20 a 30 años de edad es medellin con 46673 micronegocios."
   ]
  },
  {
   "cell_type": "markdown",
   "id": "5e1a6f75",
   "metadata": {},
   "source": [
    " en el departamento del tolima cuantos micronegocios existen encabezados por mujeres que no tienen una persona que les ayude en el micronegocio."
   ]
  },
  {
   "cell_type": "code",
   "execution_count": 7,
   "id": "8441b2a4",
   "metadata": {},
   "outputs": [
    {
     "name": "stdout",
     "output_type": "stream",
     "text": [
      ":micronegocios encabezado por Mujer sin ayuda en el micronegocio en Tolima 28203\n"
     ]
    }
   ],
   "source": [
    "# en el departamento del tolima cuantos micronegocios existen encabezados por mujeres que no tienen una persona que les ayude en el micronegocio.\n",
    "MP_TOLIMA=df_micron[(df_micron['COD_DEPTO']==73)&(df_micron['P35']==2)&(df_micron['P3031']==2)]\n",
    "total_MP_TOLIMA=MP_TOLIMA['F_EXP'].sum()\n",
    "print(\":micronegocios encabezado por Mujer sin ayuda en el micronegocio en Tolima\", int(total_MP_TOLIMA))"
   ]
  },
  {
   "cell_type": "markdown",
   "id": "313168de",
   "metadata": {},
   "source": [
    "cuantos micronegocios hay en la ciudad de bogota encabezado por mujeres, que esten en el sector de la industria manufacturera."
   ]
  },
  {
   "cell_type": "code",
   "execution_count": 8,
   "id": "16a36a41",
   "metadata": {},
   "outputs": [
    {
     "name": "stdout",
     "output_type": "stream",
     "text": [
      ":micronegocios encabezado por MUJERES en la ind.manufacturera 24563\n"
     ]
    }
   ],
   "source": [
    "Mp_BOGOTA=df_micron[(df_micron['AREA']==11)&(df_micron['P35']==2)&(df_micron['GRUPOS4']==2)]\n",
    "total_Mp_BOGOTA=Mp_BOGOTA['F_EXP'].sum()\n",
    "print(\":micronegocios encabezado por MUJERES en la ind.manufacturera\", int(total_Mp_BOGOTA))"
   ]
  },
  {
   "cell_type": "markdown",
   "id": "a65c1175",
   "metadata": {},
   "source": [
    "formula una pregunta que utilice minimas 2 a 3 variables."
   ]
  },
  {
   "cell_type": "code",
   "execution_count": 9,
   "id": "75750b27",
   "metadata": {},
   "outputs": [
    {
     "data": {
      "text/plain": [
       "COD_DEPTO\n",
       "Tunja           7564.012733\n",
       "Manizales AM    6583.010152\n",
       "Florencia       5415.956894\n",
       "Name: F_EXP, dtype: float64"
      ]
     },
     "execution_count": 9,
     "metadata": {},
     "output_type": "execute_result"
    }
   ],
   "source": [
    "# \n",
    "micron_H20_30_Man_Flor_Tuja=df_micron[((df_micron['P35']==1)&(df_micron['P241']>=20)&(df_micron['P241']<=30))&((df_micron['COD_DEPTO']==17)|(df_micron['COD_DEPTO']==18)|(df_micron['COD_DEPTO']==15))].groupby(\"COD_DEPTO\")[\"F_EXP\"].sum()\n",
    "ciudad_nombre={\n",
    "17: 'Manizales AM',\n",
    "18 :'Florencia',\n",
    "19 :'Popayán'\n",
    "}\n",
    "micron_H20_30_Man_Flor_Tuja.index= micron_H20_30_Man_Flor_Tuja.index.map(ciuda_nombre)\n",
    "micron_H20_30_Man_Flor_Tuja.sort_values(ascending=False)"
   ]
  },
  {
   "cell_type": "code",
   "execution_count": 10,
   "id": "ccbab563",
   "metadata": {},
   "outputs": [
    {
     "name": "stdout",
     "output_type": "stream",
     "text": [
      ":micronegocios encabezado por Hombre entre 20 a 30 años de edad en Tunja 340\n",
      ":micronegocios encabezado por Hombre entre 20 a 30 años de edad en Florencia 336\n",
      ":micronegocios encabezado por Hombre entre 20 a 30 años de edad en Manizales 299\n"
     ]
    }
   ],
   "source": [
    "# cuantos hombres entre 20 y 30 años tienen micronegocios en las ciudades de manizales, florencia y tunja, con correo electronico\n",
    "HP_tunja=df_micron[(df_micron['AREA']==15)&(df_micron['P35']==1)&(df_micron['P241']>=20)&(df_micron['P241']<=30)&(df_micron['P3000']==1)]\n",
    "total_HP_tunja=HP_tunja['F_EXP'].sum()\n",
    "print(\":micronegocios encabezado por Hombre entre 20 a 30 años de edad en Tunja\", int(total_HP_tunja))\n",
    "\n",
    "HP_florencia=df_micron[(df_micron['AREA']==18)&(df_micron['P35']==1)&(df_micron['P241']>=20)&(df_micron['P241']<=30)&(df_micron['P3000']==1)]\n",
    "total_HP_florencia=HP_florencia['F_EXP'].sum()\n",
    "print(\":micronegocios encabezado por Hombre entre 20 a 30 años de edad en Florencia\", int(total_HP_florencia))\n",
    "\n",
    "HP_manizales=df_micron[(df_micron['AREA']==17)&(df_micron['P35']==1)&(df_micron['P241']>=20)&(df_micron['P241']<=30)&(df_micron['P3000']==1)]\n",
    "total_HP_manizales=HP_manizales['F_EXP'].sum()\n",
    "print(\":micronegocios encabezado por Hombre entre 20 a 30 años de edad en Manizales\", int(total_HP_manizales))"
   ]
  }
 ],
 "metadata": {
  "kernelspec": {
   "display_name": "Python 3",
   "language": "python",
   "name": "python3"
  },
  "language_info": {
   "codemirror_mode": {
    "name": "ipython",
    "version": 3
   },
   "file_extension": ".py",
   "mimetype": "text/x-python",
   "name": "python",
   "nbconvert_exporter": "python",
   "pygments_lexer": "ipython3",
   "version": "3.12.1"
  }
 },
 "nbformat": 4,
 "nbformat_minor": 5
}
