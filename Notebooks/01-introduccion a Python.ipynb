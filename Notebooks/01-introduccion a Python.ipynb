{
 "cells": [
  {
   "cell_type": "markdown",
   "id": "29efc748",
   "metadata": {},
   "source": [
    "Markdown = solo para escribir codigos\n",
    "Python = ejecutar codigos"
   ]
  },
  {
   "cell_type": "code",
   "execution_count": 6,
   "id": "9f68c9e2",
   "metadata": {},
   "outputs": [
    {
     "name": "stdout",
     "output_type": "stream",
     "text": [
      "hola munndo\n"
     ]
    }
   ],
   "source": [
    "print('hola munndo')"
   ]
  },
  {
   "cell_type": "code",
   "execution_count": 29,
   "id": "0081037e",
   "metadata": {},
   "outputs": [
    {
     "data": {
      "text/plain": [
       "'misterio'"
      ]
     },
     "execution_count": 29,
     "metadata": {},
     "output_type": "execute_result"
    }
   ],
   "source": [
    "#creamos una lista de 8 elementos\n",
    "lista=[\"1\", \"2\", \"andres\", \"michell\", \"catalina\", \"5\", \"clau\", \"mai\" ]\n",
    "#acceder a los elementos de una lista.\n",
    "lista[3]\n",
    "#para acceder a mas de un elemento de la lista\n",
    "lista[1:5]\n",
    "#para acceder a una lista dentro de otra lista\n",
    "lista_v2=[\"1\", \"2\", \"andres\", \"michell\", \"5\", \"clau\", \"mai\", [\"lord\", \"misterio\"] ]\n",
    "lista_v2[-1][1]\n"
   ]
  },
  {
   "cell_type": "code",
   "execution_count": 30,
   "id": "0916f63a",
   "metadata": {},
   "outputs": [
    {
     "data": {
      "text/plain": [
       "6"
      ]
     },
     "execution_count": 30,
     "metadata": {},
     "output_type": "execute_result"
    }
   ],
   "source": [
    "#crear una mtx\n",
    "matrix=[[1,2,3],[5,6,7],[8,9,10]]\n",
    "matrix[1][1]"
   ]
  },
  {
   "cell_type": "code",
   "execution_count": null,
   "id": "5c7740ce",
   "metadata": {},
   "outputs": [
    {
     "data": {
      "text/plain": [
       "[1, 2, 4, 5, 6, 6, 7]"
      ]
     },
     "execution_count": 38,
     "metadata": {},
     "output_type": "execute_result"
    }
   ],
   "source": [
    "#como organizar lista\n",
    "lista=[6,8,2,4,5,6,1,7]\n",
    "#de menor a mayor con el metodo sort\n",
    "lista.sort()\n",
    "lista\n",
    "#para agregar a lista app\n",
    "#para eliminar de lista pop\n",
    "lista.pop()\n",
    "lista\n",
    "#para eliminar de lista pop\n",
    "lista.pop()\n",
    "lista"
   ]
  },
  {
   "cell_type": "code",
   "execution_count": 45,
   "id": "a3215520",
   "metadata": {},
   "outputs": [
    {
     "data": {
      "text/plain": [
       "[7000, 8000, 9000]"
      ]
     },
     "execution_count": 45,
     "metadata": {},
     "output_type": "execute_result"
    }
   ],
   "source": [
    "#crear diccionario: clave y valor: ejemplo: colombia es la clave, 1000 es el valor\n",
    "diccionario_pib={\"colombia\":[1000,2000,3000],\n",
    "                 \"peru:\":1500,\n",
    "                 \"brasil\":2000,\n",
    "                 \"usa\":7000}\n",
    "diccionario_pib[\"colombia\"]\n",
    "diccionario_pib_v2={1:[1000,2000,3000],\n",
    "                    2:[4000,5000,6000],\n",
    "                    3:[7000,8000,9000]}\n",
    "diccionario_pib_v2[3]"
   ]
  },
  {
   "cell_type": "code",
   "execution_count": 50,
   "id": "8c7e22bb",
   "metadata": {},
   "outputs": [
    {
     "data": {
      "text/plain": [
       "[123, 456, 789, 145]"
      ]
     },
     "execution_count": 50,
     "metadata": {},
     "output_type": "execute_result"
    }
   ],
   "source": [
    "#ejercicio de diccionario\n",
    "datos={\"nombre\":[\"pedro\",\"juan\", \"jhon\", \"pablo\"],\n",
    "       \"telefono\":[123,456,789,145],\n",
    "       \"carrera\":[\"economia\", \"fisica\", \"admin\", \"matema\"]}\n",
    "datos[\"telefono\"]"
   ]
  },
  {
   "cell_type": "code",
   "execution_count": null,
   "id": "880fb45f",
   "metadata": {},
   "outputs": [
    {
     "data": {
      "text/plain": [
       "7000"
      ]
     },
     "execution_count": 40,
     "metadata": {},
     "output_type": "execute_result"
    }
   ],
   "source": []
  }
 ],
 "metadata": {
  "kernelspec": {
   "display_name": "Python 3",
   "language": "python",
   "name": "python3"
  },
  "language_info": {
   "codemirror_mode": {
    "name": "ipython",
    "version": 3
   },
   "file_extension": ".py",
   "mimetype": "text/x-python",
   "name": "python",
   "nbconvert_exporter": "python",
   "pygments_lexer": "ipython3",
   "version": "3.12.1"
  }
 },
 "nbformat": 4,
 "nbformat_minor": 5
}
