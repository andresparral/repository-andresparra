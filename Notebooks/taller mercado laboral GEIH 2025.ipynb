{
 "cells": [
  {
   "cell_type": "code",
   "execution_count": 12,
   "id": "9e67036f",
   "metadata": {},
   "outputs": [],
   "source": [
    "import pandas as pd\n",
    "import numpy as np\n",
    "from pathlib import Path"
   ]
  },
  {
   "cell_type": "code",
   "execution_count": 13,
   "id": "c2c76bf2",
   "metadata": {},
   "outputs": [],
   "source": [
    "# caracteristicas generales, seguridad social en salud y educacion.\n",
    "# links a los conjuntos de datos.\n",
    "url_cgsse= 'https://github.com/niconomist98/DataAnalyticsUQ/raw/refs/heads/main/Datos/GEIH2025/cgsse.CSV'\n",
    "url_ocupados= 'https://github.com/niconomist98/DataAnalyticsUQ/raw/refs/heads/main/Datos/GEIH2025/Ocupados.CSV'\n",
    "url_ft= 'https://github.com/niconomist98/DataAnalyticsUQ/raw/refs/heads/main/Datos/GEIH2025/Fuerza%20de%20trabajo.CSV'\n",
    "url_desocupados= 'https://github.com/niconomist98/DataAnalyticsUQ/raw/refs/heads/main/Datos/GEIH2025/No%20ocupados.CSV'"
   ]
  },
  {
   "cell_type": "code",
   "execution_count": 14,
   "id": "236b3f76",
   "metadata": {},
   "outputs": [],
   "source": [
    "# CGSSE\n",
    "df_cgsse= pd.read_csv(url_cgsse, encoding='latin-1', sep=';', low_memory=False)\n",
    "# ocupados\n",
    "df_o= pd.read_csv(url_ocupados, encoding= 'latin-1', sep=';', low_memory=False)\n",
    "# Fuerza de trabajo\n",
    "df_ft= pd.read_csv(url_ft, encoding= 'latin-1', sep=';', low_memory=False)\n",
    "# No ocupados\n",
    "df_d= pd.read_csv(url_desocupados, encoding= 'latin-1', sep=';', low_memory=False)"
   ]
  },
  {
   "cell_type": "markdown",
   "id": "c3654048",
   "metadata": {},
   "source": [
    "1) Para el total nacional calcule :"
   ]
  },
  {
   "cell_type": "code",
   "execution_count": 19,
   "id": "251a8389",
   "metadata": {},
   "outputs": [
    {
     "name": "stdout",
     "output_type": "stream",
     "text": [
      "Poblacion total: 52045001\n"
     ]
    }
   ],
   "source": [
    "# poblacion total\n",
    "poblacion_T= df_cgsse['FEX_C18'].sum()\n",
    "print(f'Poblacion total: {int(poblacion_T)}')"
   ]
  },
  {
   "cell_type": "code",
   "execution_count": null,
   "id": "05290e83",
   "metadata": {},
   "outputs": [
    {
     "name": "stdout",
     "output_type": "stream",
     "text": [
      "Poblacion en edad de trabajar: 40653416\n"
     ]
    }
   ],
   "source": [
    "# poblacion en edad de trabajar\n",
    "PET=df_cgsse[df_cgsse['P6040']>=15]['FEX_C18'].sum()\n",
    "print(f'Poblacion en edad de trabajar: {int(PET)}')"
   ]
  },
  {
   "cell_type": "code",
   "execution_count": 22,
   "id": "8c2d3c35",
   "metadata": {},
   "outputs": [
    {
     "name": "stdout",
     "output_type": "stream",
     "text": [
      "Poblacion no en edad de trabajar: 11391585\n"
     ]
    }
   ],
   "source": [
    "# población que no está en edad de trabajar\n",
    "PNET=df_cgsse[df_cgsse['P6040']<15]['FEX_C18'].sum()\n",
    "print(f'Poblacion no en edad de trabajar: {int(PNE)}')"
   ]
  },
  {
   "cell_type": "code",
   "execution_count": 21,
   "id": "5633951d",
   "metadata": {},
   "outputs": [
    {
     "name": "stdout",
     "output_type": "stream",
     "text": [
      "Poblacion Economicamente Activa: 40653416\n"
     ]
    }
   ],
   "source": [
    "# población económicamente activa\n",
    "PEA=df_ft['FEX_C18'].sum()\n",
    "print(f'Poblacion Economicamente Activa: {int(PEA)}')"
   ]
  },
  {
   "cell_type": "code",
   "execution_count": 23,
   "id": "bd71f722",
   "metadata": {},
   "outputs": [
    {
     "name": "stdout",
     "output_type": "stream",
     "text": [
      "poblacion economicamente inactiva: 16900463\n"
     ]
    }
   ],
   "source": [
    "# población económicamente inactiva\n",
    "PEI=df_d['FEX_C18'].sum()\n",
    "print(f'poblacion economicamente inactiva: {int(PEI)}')"
   ]
  },
  {
   "cell_type": "code",
   "execution_count": 39,
   "id": "36ffc5b1",
   "metadata": {},
   "outputs": [
    {
     "name": "stdout",
     "output_type": "stream",
     "text": [
      "Ocupados: 23752952\n",
      "Poblacion en edad de trabajar Activa: 25974846\n",
      "Tasa De Ocupacion: 58.43%\n"
     ]
    }
   ],
   "source": [
    "# tasa de ocupación\n",
    "O=df_o['FEX_C18'].sum()\n",
    "print(f'Ocupados: {int(O)}')\n",
    "PET=df_ft['FEX_C18'].sum()\n",
    "print(f'Poblacion en edad de trabajar Activa: {int(PEA)}')\n",
    "TO=O/PET*100\n",
    "print(f'Tasa De Ocupacion: {TO:.2f}%')"
   ]
  },
  {
   "cell_type": "code",
   "execution_count": 37,
   "id": "22d3b54f",
   "metadata": {},
   "outputs": [
    {
     "name": "stdout",
     "output_type": "stream",
     "text": [
      "poblacion Economicamente Activa: 25974846\n",
      "poblacion Economicamente Inactiva: 14678569\n"
     ]
    }
   ],
   "source": [
    "# calculo de la PEA y la PEI\n",
    "PEA=df_ft[df_ft['FT']==1]['FEX_C18'].sum()\n",
    "print(f'poblacion Economicamente Activa: {int(PEA)}')\n",
    "PEI=df_ft[df_ft['FFT']==1]['FEX_C18'].sum()\n",
    "print(f'poblacion Economicamente Inactiva: {int(PEI)}')"
   ]
  },
  {
   "cell_type": "code",
   "execution_count": 43,
   "id": "ffab4302",
   "metadata": {},
   "outputs": [
    {
     "name": "stdout",
     "output_type": "stream",
     "text": [
      "Desocupados: 16900463\n",
      "Tasa De Desempleo: 65.06%\n"
     ]
    }
   ],
   "source": [
    "# tasa de desempleo\n",
    "D=df_d['FEX_C18'].sum()\n",
    "print(f'Desocupados: {int(D)}')\n",
    "TD=D/PEA*100\n",
    "print(f'Tasa De Desempleo: {TD:.2f}%')"
   ]
  },
  {
   "cell_type": "markdown",
   "id": "031d8848",
   "metadata": {},
   "source": [
    "2) Calcule las tasas de desempleo para hombres y mujeres en todos los departamentos de colombia, cuales son los departamentos con mayores y menores tasas de desempleo?"
   ]
  },
  {
   "cell_type": "code",
   "execution_count": null,
   "id": "c4ae8ede",
   "metadata": {},
   "outputs": [
    {
     "name": "stdout",
     "output_type": "stream",
     "text": [
      "Hombres en desempleo: 13860862\n",
      "Mujeres en desempleo: 9892089\n"
     ]
    }
   ],
   "source": [
    "df_d_genero = pd.merge(df_o, df_cgsse[['DIRECTORIO', 'SECUENCIA_P', 'ORDEN', 'P3271']], on=['DIRECTORIO', 'SECUENCIA_P', 'ORDEN'], how='left')\n",
    "# CALCULO DE HOMBRE EN DESEMPLEO\n",
    "dH= df_d_genero[df_d_genero['P3271']==1]['FEX_C18'].sum()\n",
    "print(f'Hombres en desempleo: {int(dH)}')\n",
    "# CALCULO DE MUJER EN DESEMPLEO\n",
    "dM= df_d_genero[df_d_genero['P3271']==2]['FEX_C18'].sum()\n",
    "print(f'Mujeres en desempleo: {int(dM)}')\n"
   ]
  }
 ],
 "metadata": {
  "kernelspec": {
   "display_name": "Python 3",
   "language": "python",
   "name": "python3"
  },
  "language_info": {
   "codemirror_mode": {
    "name": "ipython",
    "version": 3
   },
   "file_extension": ".py",
   "mimetype": "text/x-python",
   "name": "python",
   "nbconvert_exporter": "python",
   "pygments_lexer": "ipython3",
   "version": "3.12.1"
  }
 },
 "nbformat": 4,
 "nbformat_minor": 5
}
